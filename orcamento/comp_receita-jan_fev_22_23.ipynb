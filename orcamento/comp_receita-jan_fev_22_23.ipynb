{
 "cells": [
  {
   "cell_type": "markdown",
   "id": "2a1261fa",
   "metadata": {},
   "source": [
    "## Comparativo Anual de Receitas e Despesas\n",
    "---\n",
    "Analisar a evolução das receitas e despesas ao longo dos anos disponíveis no arquivo de orçamento, permitindo uma visão clara da saúde financeira da empresa."
   ]
  },
  {
   "cell_type": "code",
   "execution_count": 37,
   "id": "3cf9ce88",
   "metadata": {},
   "outputs": [],
   "source": [
    "import pandas as pd\n",
    "import matplotlib.pyplot as plt\n",
    "df = pd.read_excel('orcamento.xlsx')\n",
    "pd.set_option('display.max_rows', None)\n",
    "pd.set_option('display.max_columns', None)"
   ]
  },
  {
   "cell_type": "markdown",
   "id": "689aba93",
   "metadata": {},
   "source": [
    "### Tabela ordenada pelo ano e mês"
   ]
  },
  {
   "cell_type": "code",
   "execution_count": null,
   "id": "73423bc5",
   "metadata": {},
   "outputs": [
    {
     "ename": "NameError",
     "evalue": "name 'pd' is not defined",
     "output_type": "error",
     "traceback": [
      "\u001b[31m---------------------------------------------------------------------------\u001b[39m",
      "\u001b[31mNameError\u001b[39m                                 Traceback (most recent call last)",
      "\u001b[36mCell\u001b[39m\u001b[36m \u001b[39m\u001b[32mIn[2]\u001b[39m\u001b[32m, line 1\u001b[39m\n\u001b[32m----> \u001b[39m\u001b[32m1\u001b[39m df = \u001b[43mpd\u001b[49m.read_excel(\u001b[33m'\u001b[39m\u001b[33morcamento.xlsx\u001b[39m\u001b[33m'\u001b[39m)\n\u001b[32m      2\u001b[39m receitas_despesas = df[(df[\u001b[33m'\u001b[39m\u001b[33mNome conta 1º nível\u001b[39m\u001b[33m'\u001b[39m] == \u001b[33m'\u001b[39m\u001b[33mReceita\u001b[39m\u001b[33m'\u001b[39m)].sort_values(by=[\u001b[33m'\u001b[39m\u001b[33mAno\u001b[39m\u001b[33m'\u001b[39m, \u001b[33m'\u001b[39m\u001b[33mnº mês\u001b[39m\u001b[33m'\u001b[39m], ascending=\u001b[38;5;28;01mTrue\u001b[39;00m)\n\u001b[32m      3\u001b[39m receitas_despesas\n",
      "\u001b[31mNameError\u001b[39m: name 'pd' is not defined"
     ]
    }
   ],
   "source": [
    "receitas_despesas = df[(df['Nome conta 1º nível'] == 'Receita')].sort_values(by=['Ano', 'nº mês'], ascending=True)\n",
    "receitas_despesas"
   ]
  },
  {
   "cell_type": "markdown",
   "id": "aa6e5928",
   "metadata": {},
   "source": [
    "### Total Receitas Janeiro/Fevereiro"
   ]
  },
  {
   "cell_type": "code",
   "execution_count": 24,
   "id": "38fcbff0",
   "metadata": {},
   "outputs": [
    {
     "name": "stdout",
     "output_type": "stream",
     "text": [
      "Total de Receitas em 2022: R$ 4,906,767.25\n",
      "Total de Receitas em 2023: R$ 3,648,954.53\n"
     ]
    }
   ],
   "source": [
    "receitas_df = df[\n",
    "    (df['Nome conta 1º nível'] == 'Receita') &\n",
    "    (df['nº mês'].isin([1, 2]))\n",
    "]\n",
    "total_receitas_jan_fev_por_ano = receitas_df.groupby('Ano')['Realizado'].sum()\n",
    "total_jan_fev_2022 = total_receitas_jan_fev_por_ano.get(2022, 0)\n",
    "total__jan_fev_2023 = total_receitas_jan_fev_por_ano.get(2023, 0)\n",
    "\n",
    "# Exibindo os resultados formatados\n",
    "print(f\"Total de Receitas em 2022: R$ {total_jan_fev_2022:,.2f}\")\n",
    "print(f\"Total de Receitas em 2023: R$ {total__jan_fev_2023:,.2f}\")"
   ]
  },
  {
   "cell_type": "markdown",
   "id": "ea397b07",
   "metadata": {},
   "source": [
    "### Receitas Janeiro e Fevereiro 2022 (separadas)"
   ]
  },
  {
   "cell_type": "code",
   "execution_count": 32,
   "id": "4749a0bd",
   "metadata": {},
   "outputs": [
    {
     "name": "stdout",
     "output_type": "stream",
     "text": [
      "Total de Receitas em janeiro 2022: R$ 2,592,824.08\n",
      "Total de Receitas em fevereiro 2022: R$ 2,313,943.17\n"
     ]
    }
   ],
   "source": [
    "jan_fev_22_df = df[\n",
    "    (df['Ano'] == 2022) &\n",
    "    (df['Nome conta 1º nível'] == 'Receita') &\n",
    "    (df['nº mês'].isin([1, 2]))\n",
    "]\n",
    "\n",
    "total_jan_fev_22 = jan_fev_22_df.groupby('Mês')['Realizado'].sum()\n",
    "jan_22 = total_jan_fev_22.get('JANEIRO', 0)\n",
    "fev_22 = total_jan_fev_22.get('FEVEREIRO', 0)\n",
    "print(f\"Total de Receitas em janeiro 2022: R$ {jan_22:,.2f}\")\n",
    "print(f\"Total de Receitas em fevereiro 2022: R$ {fev_22:,.2f}\")\n"
   ]
  },
  {
   "cell_type": "markdown",
   "id": "b17b5f91",
   "metadata": {},
   "source": [
    "### Receitas Janeiro e Fevereiro 2023 (separadas)"
   ]
  },
  {
   "cell_type": "code",
   "execution_count": 33,
   "id": "3b94a392",
   "metadata": {},
   "outputs": [
    {
     "name": "stdout",
     "output_type": "stream",
     "text": [
      "Total de Receitas em janeiro 2023: R$ 1,514,305.95\n",
      "Total de Receitas em fevereiro 2023: R$ 2,134,648.58\n"
     ]
    }
   ],
   "source": [
    "jan_fev_23_df = df[\n",
    "    (df['Ano'] == 2023) &\n",
    "    (df['Nome conta 1º nível'] == 'Receita') &\n",
    "    (df['nº mês'].isin([1, 2]))\n",
    "]\n",
    "\n",
    "total_jan_fev_23 = jan_fev_23_df.groupby('Mês')['Realizado'].sum()\n",
    "jan_23 = total_jan_fev_23.get('JANEIRO', 0)\n",
    "fev_23 = total_jan_fev_23.get('FEVEREIRO', 0)\n",
    "print(f\"Total de Receitas em janeiro 2023: R$ {jan_23:,.2f}\")\n",
    "print(f\"Total de Receitas em fevereiro 2023: R$ {fev_23:,.2f}\")\n"
   ]
  },
  {
   "cell_type": "markdown",
   "id": "4280d4eb",
   "metadata": {},
   "source": [
    "### Tabela comparativa de receitas de janeiro e fevereiro de 2022 e 2023"
   ]
  },
  {
   "cell_type": "code",
   "execution_count": 42,
   "id": "2a79d0d3",
   "metadata": {},
   "outputs": [
    {
     "data": {
      "text/html": [
       "<div>\n",
       "<style scoped>\n",
       "    .dataframe tbody tr th:only-of-type {\n",
       "        vertical-align: middle;\n",
       "    }\n",
       "\n",
       "    .dataframe tbody tr th {\n",
       "        vertical-align: top;\n",
       "    }\n",
       "\n",
       "    .dataframe thead th {\n",
       "        text-align: right;\n",
       "    }\n",
       "</style>\n",
       "<table border=\"1\" class=\"dataframe\">\n",
       "  <thead>\n",
       "    <tr style=\"text-align: right;\">\n",
       "      <th>Ano</th>\n",
       "      <th>2022</th>\n",
       "      <th>2023</th>\n",
       "    </tr>\n",
       "    <tr>\n",
       "      <th>Mês</th>\n",
       "      <th></th>\n",
       "      <th></th>\n",
       "    </tr>\n",
       "  </thead>\n",
       "  <tbody>\n",
       "    <tr>\n",
       "      <th>JANEIRO</th>\n",
       "      <td>2592824.08</td>\n",
       "      <td>1514305.95</td>\n",
       "    </tr>\n",
       "    <tr>\n",
       "      <th>FEVEREIRO</th>\n",
       "      <td>2313943.17</td>\n",
       "      <td>2134648.58</td>\n",
       "    </tr>\n",
       "  </tbody>\n",
       "</table>\n",
       "</div>"
      ],
      "text/plain": [
       "Ano              2022        2023\n",
       "Mês                              \n",
       "JANEIRO    2592824.08  1514305.95\n",
       "FEVEREIRO  2313943.17  2134648.58"
      ]
     },
     "execution_count": 42,
     "metadata": {},
     "output_type": "execute_result"
    }
   ],
   "source": [
    "receitas_jan_fev_22_23 = df[\n",
    "    (df['Nome conta 1º nível'] == 'Receita') &\n",
    "    (df['nº mês'].isin([1, 2])) &\n",
    "    (df['Ano'].isin([2022, 2023]))\n",
    "]\n",
    "\n",
    "# --- 2. AGRUPAR E SOMAR ---\n",
    "# Agrupamos por Ano e Mês para ter a soma de cada mês em cada ano\n",
    "soma_agrupada = receitas_jan_fev_22_23.groupby(['Ano', 'Mês'])['Realizado'].sum()\n",
    "dados_para_grafico = soma_agrupada.unstack('Ano').sort_values(by=\"Mês\", ascending=False)\n",
    "dados_para_grafico"
   ]
  },
  {
   "cell_type": "markdown",
   "id": "85e50cea",
   "metadata": {},
   "source": [
    "#### Gera o gráfico"
   ]
  },
  {
   "cell_type": "code",
   "execution_count": 45,
   "id": "3db1d788",
   "metadata": {},
   "outputs": [
    {
     "name": "stdout",
     "output_type": "stream",
     "text": [
      "Gráfico 'comparativo_receitas_jan_fev_22_23.png' foi gerado com sucesso.\n"
     ]
    },
    {
     "data": {
      "image/png": "[encoded data removed]",
      "text/plain": [
       "<Figure size 1000x700 with 1 Axes>"
      ]
     },
     "metadata": {},
     "output_type": "display_data"
    }
   ],
   "source": [
    "dados_para_grafico.plot(kind='bar', figsize=(10, 7))\n",
    "\n",
    "# --- 5. MELHORAR A APARÊNCIA (Toque de Consultor) ---\n",
    "plt.title('Comparativo de Receitas: Jan/Fev de 2022 vs 2023', fontsize=16)\n",
    "plt.xlabel('Mês', fontsize=12)\n",
    "plt.ylabel('Receita Total (em milhões de R$)', fontsize=12)\n",
    "plt.xticks(rotation=0) # Rótulos do eixo X na horizontal\n",
    "plt.legend(title='Ano') # Adiciona um título à legenda\n",
    "plt.grid(axis='y', linestyle='--', alpha=0.7)\n",
    "plt.tight_layout()\n",
    "\n",
    "# Salvamos o gráfico em um arquivo\n",
    "plt.savefig('graficos/comparativo_receitas_jan_fev_22_23.png')\n",
    "print(\"Gráfico 'comparativo_receitas_jan_fev_22_23.png' foi gerado com sucesso.\")"
   ]
  },
  {
   "cell_type": "markdown",
   "id": "08479602",
   "metadata": {},
   "source": [
    "### Exibe tabela referente ao ano de 2023 (Janeiro e Fevereiro)"
   ]
  },
  {
   "cell_type": "code",
   "execution_count": null,
   "id": "0be2af0f",
   "metadata": {},
   "outputs": [],
   "source": [
    "receita_jan_fev_2023 = df[(df['Ano'] == 2023) & (df['Cod conta 1º nível'] == 2)].sort_values(by=['Ano', 'nº mês'], ascending=True)\n",
    "receita_jan_fev_2023"
   ]
  },
  {
   "cell_type": "markdown",
   "id": "1f912f95",
   "metadata": {},
   "source": [
    "### Visualizar tudo"
   ]
  },
  {
   "cell_type": "code",
   "execution_count": null,
   "id": "c0af03d9",
   "metadata": {},
   "outputs": [],
   "source": [
    "\n",
    "df"
   ]
  }
 ],
 "metadata": {
  "kernelspec": {
   "display_name": "Python 3",
   "language": "python",
   "name": "python3"
  },
  "language_info": {
   "codemirror_mode": {
    "name": "ipython",
    "version": 3
   },
   "file_extension": ".py",
   "mimetype": "text/x-python",
   "name": "python",
   "nbconvert_exporter": "python",
   "pygments_lexer": "ipython3",
   "version": "3.13.7"
  }
 },
 "nbformat": 4,
 "nbformat_minor": 5
}
